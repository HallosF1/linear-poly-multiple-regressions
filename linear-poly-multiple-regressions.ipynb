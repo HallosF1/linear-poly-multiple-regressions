{
  "nbformat": 4,
  "nbformat_minor": 0,
  "metadata": {
    "colab": {
      "name": "statistics_exam.ipynb",
      "provenance": [],
      "collapsed_sections": []
    },
    "kernelspec": {
      "name": "python3",
      "display_name": "Python 3"
    },
    "language_info": {
      "name": "python"
    }
  },
  "cells": [
    {
      "cell_type": "code",
      "metadata": {
        "id": "Jn4Kjf0wKQEL"
      },
      "source": [
        "from statistics import mean\n",
        "import numpy as np\n",
        "import matplotlib.pyplot as plt\n",
        "from matplotlib import style\n",
        "import sys"
      ],
      "execution_count": 13,
      "outputs": []
    },
    {
      "cell_type": "code",
      "metadata": {
        "id": "LVWen6ij7txA"
      },
      "source": [
        "np.set_printoptions(suppress=True)"
      ],
      "execution_count": 14,
      "outputs": []
    },
    {
      "cell_type": "code",
      "metadata": {
        "id": "oplOjYbQKdwI"
      },
      "source": [
        "xs = np.array([1, 2, 3, 4], dtype=np.float64)\n",
        "ys= np.array([5.7, 7.6, 8.9, 9.4], dtype=np.float64)"
      ],
      "execution_count": 15,
      "outputs": []
    },
    {
      "cell_type": "code",
      "metadata": {
        "colab": {
          "base_uri": "https://localhost:8080/",
          "height": 299
        },
        "id": "dpm-YOPsKeZT",
        "outputId": "8f0dad9c-b2e2-4dba-9fb0-7ce9b60a2046"
      },
      "source": [
        "style.use('fivethirtyeight')\n",
        "plt.scatter(xs, ys)"
      ],
      "execution_count": 16,
      "outputs": [
        {
          "output_type": "execute_result",
          "data": {
            "text/plain": [
              "<matplotlib.collections.PathCollection at 0x7f52bc385ed0>"
            ]
          },
          "metadata": {},
          "execution_count": 16
        },
        {
          "output_type": "display_data",
          "data": {
            "image/png": "[encoded data removed]",
            "text/plain": [
              "<Figure size 432x288 with 1 Axes>"
            ]
          },
          "metadata": {}
        }
      ]
    },
    {
      "cell_type": "code",
      "metadata": {
        "id": "QaCAQCoxKoiT"
      },
      "source": [
        "# y = mx + b\n",
        "def best_fit_slope_and_intercept(xs, ys):\n",
        "  m = (mean(xs)*mean(ys) - mean(xs*ys)) / (mean(xs)**2 - mean(xs**2))\n",
        "  b = mean(ys) - m*mean(xs) \n",
        "  return m, b"
      ],
      "execution_count": 17,
      "outputs": []
    },
    {
      "cell_type": "code",
      "metadata": {
        "id": "QpaOIOIfKpsd"
      },
      "source": [
        "def squared_error(ys_orig, ys_line):\n",
        "  return sum((ys_line - ys_orig)**2)\n",
        "\n",
        "def coefficient_of_determination(ys_orig, ys_line):\n",
        "  y_mean_line = np.mean(ys_orig)\n",
        "  squared_error_regr = squared_error(ys_orig, ys_line)\n",
        "  squared_error_y_mean = squared_error(ys_orig, y_mean_line)\n",
        "  return 1 - (squared_error_regr / squared_error_y_mean)"
      ],
      "execution_count": 18,
      "outputs": []
    },
    {
      "cell_type": "code",
      "metadata": {
        "colab": {
          "base_uri": "https://localhost:8080/"
        },
        "id": "AVUSsEznK8Mf",
        "outputId": "7b00bf75-ca04-4780-dfa5-b0455ba49d14"
      },
      "source": [
        "m, b = best_fit_slope_and_intercept(xs, ys)\n",
        "m, b"
      ],
      "execution_count": 19,
      "outputs": [
        {
          "output_type": "execute_result",
          "data": {
            "text/plain": [
              "(1.2400000000000007, 4.799999999999999)"
            ]
          },
          "metadata": {},
          "execution_count": 19
        }
      ]
    },
    {
      "cell_type": "code",
      "metadata": {
        "id": "u0k2b64oK9TT",
        "colab": {
          "base_uri": "https://localhost:8080/"
        },
        "outputId": "4260e768-2ae2-48d9-968c-1a93acfc50fb"
      },
      "source": [
        "regression_line = [(m*x) + b for x in xs]\n",
        "regression_line"
      ],
      "execution_count": 20,
      "outputs": [
        {
          "output_type": "execute_result",
          "data": {
            "text/plain": [
              "[6.039999999999999, 7.28, 8.520000000000001, 9.760000000000002]"
            ]
          },
          "metadata": {},
          "execution_count": 20
        }
      ]
    },
    {
      "cell_type": "code",
      "metadata": {
        "colab": {
          "base_uri": "https://localhost:8080/",
          "height": 299
        },
        "id": "Es3dhs3bLCSf",
        "outputId": "577b4374-8ae8-422c-f626-51dd5bfcc5ae"
      },
      "source": [
        "plt.scatter(xs, ys)\n",
        "plt.plot(xs, regression_line)"
      ],
      "execution_count": 21,
      "outputs": [
        {
          "output_type": "execute_result",
          "data": {
            "text/plain": [
              "[<matplotlib.lines.Line2D at 0x7f52bc373f50>]"
            ]
          },
          "metadata": {},
          "execution_count": 21
        },
        {
          "output_type": "display_data",
          "data": {
            "image/png": "[encoded data removed]",
            "text/plain": [
              "<Figure size 432x288 with 1 Axes>"
            ]
          },
          "metadata": {}
        }
      ]
    },
    {
      "cell_type": "code",
      "metadata": {
        "colab": {
          "base_uri": "https://localhost:8080/"
        },
        "id": "XpJMSrrvLJo1",
        "outputId": "8877b86e-e0b2-4ee4-ea47-2427414fdd1e"
      },
      "source": [
        "error = coefficient_of_determination(ys ,regression_line)\n",
        "error"
      ],
      "execution_count": 22,
      "outputs": [
        {
          "output_type": "execute_result",
          "data": {
            "text/plain": [
              "0.9398533007334965"
            ]
          },
          "metadata": {},
          "execution_count": 22
        }
      ]
    },
    {
      "cell_type": "markdown",
      "metadata": {
        "id": "5UgdaXhxYbyV"
      },
      "source": [
        "# POLYNOMIAL REGRESSION"
      ]
    },
    {
      "cell_type": "code",
      "metadata": {
        "id": "IvxMqrE2im1b"
      },
      "source": [
        "# y = b0 + b1x + b2x^2 + b3x^3\n",
        "xs = np.array([1, 2, 3, 4, 5], dtype=np.float64)\n",
        "ys= np.array([19, 61, 157, 331, 607], dtype=np.float64)\n",
        "\n",
        "ones = np.array([1 for i in range(0,len(xs))])\n",
        "power_of_x = np.array([x**2 for x in xs])\n",
        "cube_of_x = np.array([x**3 for x in xs])\n",
        "\n",
        "xy = sum(xs * ys)\n",
        "x2y = sum(power_of_x * ys)\n",
        "x3y = sum(cube_of_x * ys)\n",
        "\n",
        "m1 = np.array([[sum(ys)], [xy], [x2y], [x3y]])\n",
        "\n",
        "# XT * X\n",
        "X = np.array([ones, xs, power_of_x, cube_of_x])\n",
        "X_transpose = X.T\n",
        "dot = np.dot(X, X_transpose)"
      ],
      "execution_count": 23,
      "outputs": []
    },
    {
      "cell_type": "code",
      "metadata": {
        "colab": {
          "base_uri": "https://localhost:8080/"
        },
        "id": "nm9CM2T08BLS",
        "outputId": "cce38703-103d-4d32-9f5e-c7e74cb98bc6"
      },
      "source": [
        "c1 = np.concatenate((dot, m1), axis=1)\n",
        "c1"
      ],
      "execution_count": 24,
      "outputs": [
        {
          "output_type": "execute_result",
          "data": {
            "text/plain": [
              "array([[     5.,     15.,     55.,    225.,   1175.],\n",
              "       [    15.,     55.,    225.,    979.,   4971.],\n",
              "       [    55.,    225.,    979.,   4425.,  22147.],\n",
              "       [   225.,    979.,   4425.,  20515., 101805.]])"
            ]
          },
          "metadata": {},
          "execution_count": 24
        }
      ]
    },
    {
      "cell_type": "code",
      "metadata": {
        "id": "N8PwxkOZsVFK"
      },
      "source": [
        "# GAUSSIAN ELIMINATION\n",
        "def gaussian_elimination(n, c1):\n",
        "  \"\"\"\n",
        "  n: number of unknowns\n",
        "  c1: matrix\n",
        "  \"\"\"\n",
        "  b = np.zeros(n)\n",
        "\n",
        "  for i in range(n):\n",
        "      if c1[i][i] == 0.0:\n",
        "          sys.exit('Divide by zero detected!')\n",
        "          \n",
        "      for j in range(i+1, n):\n",
        "          ratio = c1[j][i]/c1[i][i]\n",
        "          \n",
        "          for k in range(n+1):\n",
        "              c1[j][k] = c1[j][k] - ratio * c1[i][k]\n",
        "  \n",
        "  b[n-1] = c1[n-1][n]/c1[n-1][n-1]\n",
        "  \n",
        "  for i in range(n-2,-1,-1):\n",
        "      b[i] = c1[i][n]\n",
        "      \n",
        "      for j in range(i+1,n):\n",
        "          b[i] = b[i] - c1[i][j]*b[j]\n",
        "      \n",
        "      b[i] = b[i]/c1[i][i]\n",
        "  \n",
        "  print('\\nThe solution is: ')\n",
        "  for i in range(n):\n",
        "      print('B%d = %0.2f' %(i,b[i]), end = '\\t')\n",
        "  return b"
      ],
      "execution_count": 25,
      "outputs": []
    },
    {
      "cell_type": "code",
      "metadata": {
        "colab": {
          "base_uri": "https://localhost:8080/"
        },
        "id": "bCJxRRq0jBlO",
        "outputId": "a9c10370-5ed8-4717-e09e-02c1d974adf4"
      },
      "source": [
        "b = gaussian_elimination(4, c1)"
      ],
      "execution_count": 26,
      "outputs": [
        {
          "output_type": "stream",
          "name": "stdout",
          "text": [
            "\n",
            "The solution is: \n",
            "B0 = 7.00\tB1 = 5.00\tB2 = 3.00\tB3 = 4.00\t"
          ]
        }
      ]
    },
    {
      "cell_type": "code",
      "metadata": {
        "colab": {
          "base_uri": "https://localhost:8080/"
        },
        "id": "ZHWn0ZTMvBDG",
        "outputId": "bcaa9644-36cf-410c-d9b6-97ff016a4dec"
      },
      "source": [
        "poly_regression = [b[0] + (b[1] * x) + (b[2] * x**2) + (b[3] * x **3) for x in xs]\n",
        "poly_regression"
      ],
      "execution_count": 27,
      "outputs": [
        {
          "output_type": "execute_result",
          "data": {
            "text/plain": [
              "[19.0, 61.0, 157.0, 331.0, 607.0]"
            ]
          },
          "metadata": {},
          "execution_count": 27
        }
      ]
    },
    {
      "cell_type": "code",
      "metadata": {
        "colab": {
          "base_uri": "https://localhost:8080/",
          "height": 474
        },
        "id": "2k0wYOm5vT5P",
        "outputId": "4900bc63-acd6-4d09-9c05-a6fb3711854b"
      },
      "source": [
        "plt.figure(figsize=(10, 7))\n",
        "plt.scatter(xs, ys, color='r')\n",
        "plt.plot(xs, poly_regression, 'b', )"
      ],
      "execution_count": 28,
      "outputs": [
        {
          "output_type": "execute_result",
          "data": {
            "text/plain": [
              "[<matplotlib.lines.Line2D at 0x7f52bc2f18d0>]"
            ]
          },
          "metadata": {},
          "execution_count": 28
        },
        {
          "output_type": "display_data",
          "data": {
            "image/png": "[encoded data removed]",
            "text/plain": [
              "<Figure size 720x504 with 1 Axes>"
            ]
          },
          "metadata": {}
        }
      ]
    },
    {
      "cell_type": "code",
      "metadata": {
        "colab": {
          "base_uri": "https://localhost:8080/"
        },
        "id": "vxgUJq6WwgW2",
        "outputId": "40cfefff-be8e-48a6-9ea5-0bb329976cd6"
      },
      "source": [
        "error = coefficient_of_determination(ys, poly_regression)\n",
        "error"
      ],
      "execution_count": 29,
      "outputs": [
        {
          "output_type": "execute_result",
          "data": {
            "text/plain": [
              "1.0"
            ]
          },
          "metadata": {},
          "execution_count": 29
        }
      ]
    },
    {
      "cell_type": "markdown",
      "metadata": {
        "id": "cIsqUna2nfXN"
      },
      "source": [
        "# MULTIPLE VARIABLES"
      ]
    },
    {
      "cell_type": "code",
      "metadata": {
        "colab": {
          "base_uri": "https://localhost:8080/"
        },
        "id": "SYxICeMxnRDx",
        "outputId": "e3ccb9ff-a9e1-4bb5-bb79-9ed4f408a6f0"
      },
      "source": [
        "x1 = np.array([0, 4, 6.3, 8, 9.2, 10.3, 11.2, 12, 12.6]) \n",
        "x2 = np.array([0, 0.6, 1, 1.3, 1.6, 1.8, 1.9, 2, 2.1])\n",
        "\n",
        "y = np.array([1, 2, 3, 4, 5, 6, 7, 8, 9 ])\n",
        "\n",
        "ones = np.array([1 for i in range(0, 9)])\n",
        "xs_combined = np.array([ones, x1, x2])\n",
        "X =  xs_combined.T\n",
        "X"
      ],
      "execution_count": 30,
      "outputs": [
        {
          "output_type": "execute_result",
          "data": {
            "text/plain": [
              "array([[ 1. ,  0. ,  0. ],\n",
              "       [ 1. ,  4. ,  0.6],\n",
              "       [ 1. ,  6.3,  1. ],\n",
              "       [ 1. ,  8. ,  1.3],\n",
              "       [ 1. ,  9.2,  1.6],\n",
              "       [ 1. , 10.3,  1.8],\n",
              "       [ 1. , 11.2,  1.9],\n",
              "       [ 1. , 12. ,  2. ],\n",
              "       [ 1. , 12.6,  2.1]])"
            ]
          },
          "metadata": {},
          "execution_count": 30
        }
      ]
    },
    {
      "cell_type": "code",
      "metadata": {
        "colab": {
          "base_uri": "https://localhost:8080/"
        },
        "id": "Pb6vSI5mq26T",
        "outputId": "9d9a4915-79ff-498d-ead1-a60d77653014"
      },
      "source": [
        "sum_of_y = sum(y)\n",
        "xi1y = sum(x1 * y)\n",
        "xi2y = sum(x2 * y)\n",
        "#xi3y = sum(x3 * y)\n",
        "\n",
        "m1 = np.array([[sum_of_y], [xi1y], [xi2y]])\n",
        "\n",
        "# XT * X\n",
        "X_transpose = X.T\n",
        "dot = np.dot(X.T, X)\n",
        "\n",
        "# XT * Y\n",
        "m2 = np.dot(X.T, y.T)\n",
        "\n",
        "m2"
      ],
      "execution_count": 31,
      "outputs": [
        {
          "output_type": "execute_result",
          "data": {
            "text/plain": [
              "array([ 45. , 454.5,  76.4])"
            ]
          },
          "metadata": {},
          "execution_count": 31
        }
      ]
    },
    {
      "cell_type": "code",
      "metadata": {
        "colab": {
          "base_uri": "https://localhost:8080/"
        },
        "id": "Y5qHcMomcuOe",
        "outputId": "964df807-56fb-48cb-a703-ba54f691d5f7"
      },
      "source": [
        "c2 = np.concatenate((dot, m1), axis=1)\n",
        "c2"
      ],
      "execution_count": 32,
      "outputs": [
        {
          "output_type": "execute_result",
          "data": {
            "text/plain": [
              "array([[  9.  ,  73.6 ,  12.3 ,  45.  ],\n",
              "       [ 73.6 , 738.62, 124.1 , 454.5 ],\n",
              "       [ 12.3 , 124.1 ,  20.87,  76.4 ]])"
            ]
          },
          "metadata": {},
          "execution_count": 32
        }
      ]
    },
    {
      "cell_type": "code",
      "metadata": {
        "colab": {
          "base_uri": "https://localhost:8080/"
        },
        "id": "ePYdEy4ijrpI",
        "outputId": "008d83c3-e431-4f8e-b729-52cc0565d611"
      },
      "source": [
        "b = gaussian_elimination(3, c2)"
      ],
      "execution_count": 33,
      "outputs": [
        {
          "output_type": "stream",
          "name": "stdout",
          "text": [
            "\n",
            "The solution is: \n",
            "B0 = -0.11\tB1 = 0.37\tB2 = 1.52\t"
          ]
        }
      ]
    },
    {
      "cell_type": "code",
      "metadata": {
        "colab": {
          "base_uri": "https://localhost:8080/"
        },
        "id": "DuLZM6oSjyDo",
        "outputId": "23095dbf-a251-470a-c591-84f304db048d"
      },
      "source": [
        "mlr = [b[0] + b[1] * x1 + b[2] * x2]\n",
        "mlr"
      ],
      "execution_count": 34,
      "outputs": [
        {
          "output_type": "execute_result",
          "data": {
            "text/plain": [
              "[array([-0.11301504,  2.28362447,  3.74545668,  4.83256306,  5.7343138 ,\n",
              "         6.44669434,  6.93263356,  7.38150164,  7.75622748])]"
            ]
          },
          "metadata": {},
          "execution_count": 34
        }
      ]
    },
    {
      "cell_type": "code",
      "metadata": {
        "colab": {
          "base_uri": "https://localhost:8080/"
        },
        "id": "X1z87HRVk0Td",
        "outputId": "791e95c1-41ca-4427-c013-1e818a2b6cde"
      },
      "source": [
        "error = coefficient_of_determination(y, mlr)\n",
        "error"
      ],
      "execution_count": 35,
      "outputs": [
        {
          "output_type": "execute_result",
          "data": {
            "text/plain": [
              "array([0.97935329, 0.99865929, 0.99073824, 0.98844731, 0.99101305,\n",
              "       0.9966744 , 0.99992436, 0.99362433, 0.97421717])"
            ]
          },
          "metadata": {},
          "execution_count": 35
        }
      ]
    }
  ]
}